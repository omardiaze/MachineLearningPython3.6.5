{
 "cells": [
  {
   "cell_type": "markdown",
   "metadata": {},
   "source": [
    "# Load articles from RSS feeds"
   ]
  },
  {
   "cell_type": "code",
   "execution_count": 1,
   "metadata": {
    "collapsed": true
   },
   "outputs": [],
   "source": [
    "import feedparser\n",
    "import eatiht.v2 as v2\n",
    "\n",
    "def load_articles(feed_url, target, n=1):\n",
    "    d = feedparser.parse(feed_url)\n",
    "    for e in d.entries:\n",
    "        name = str(n).zfill(4) + '.dat'\n",
    "        file = open(target + '/' + name, 'w+')\n",
    "        try:\n",
    "            file.write(e.title.encode('utf8'))\n",
    "            file.write(v2.extract(e.link).encode('utf8'))\n",
    "            n = n + 1\n",
    "        except Exception:\n",
    "            print('error ' + e.link)"
   ]
  },
  {
   "cell_type": "code",
   "execution_count": 2,
   "metadata": {
    "collapsed": true
   },
   "outputs": [],
   "source": [
    "import os\n",
    "\n",
    "root = 'download'\n",
    "\n",
    "feeds_for_category = {\n",
    "    'sports': 'http://estaticos.elmundo.es/elmundodeporte/rss/futbol.xml',\n",
    "    'economy': 'http://estaticos.elmundo.es/elmundo/rss/economia.xml',\n",
    "    'science': 'http://estaticos.elmundo.es/elmundo/rss/ciencia.xml'\n",
    "}\n",
    "\n",
    "for category, feed in feeds_for_category.iteritems():\n",
    "    subdir = '/'.join([root, category])\n",
    "    if not os.path.exists(subdir):\n",
    "        os.makedirs(subdir)\n",
    "    load_articles(feed, subdir)"
   ]
  }
 ],
 "metadata": {
  "kernelspec": {
   "display_name": "Python 2",
   "language": "python",
   "name": "python2"
  },
  "language_info": {
   "codemirror_mode": {
    "name": "ipython",
    "version": 2
   },
   "file_extension": ".py",
   "mimetype": "text/x-python",
   "name": "python",
   "nbconvert_exporter": "python",
   "pygments_lexer": "ipython2",
   "version": "2.7.6"
  }
 },
 "nbformat": 4,
 "nbformat_minor": 0
}
